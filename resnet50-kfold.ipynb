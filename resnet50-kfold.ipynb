{
 "cells": [
  {
   "cell_type": "code",
   "execution_count": 1,
   "metadata": {
    "_cell_guid": "79c7e3d0-c299-4dcb-8224-4455121ee9b0",
    "_uuid": "d629ff2d2480ee46fbb7e2d37f6b5fab8052498a"
   },
   "outputs": [],
   "source": [
    "import fastai\n",
    "from fastai.vision import *"
   ]
  },
  {
   "cell_type": "code",
   "execution_count": 2,
   "metadata": {
    "_uuid": "06091590c14ead57b0371347cbd313aa662bcdfd"
   },
   "outputs": [],
   "source": [
    "path = Path('.')"
   ]
  },
  {
   "cell_type": "code",
   "execution_count": 3,
   "metadata": {
    "_uuid": "fca005f17d62131a0ff3adc201b62c334b85a240"
   },
   "outputs": [],
   "source": [
    "train = path/'train_dehaze/'\n",
    "test =  path/'leaderboard_test_data_dehaze/'\n",
    "holdout = path/'leaderboard_holdout_data_dehaze/'\n",
    "sample_sub = path/'SampleSubmission.csv'\n",
    "labels = path/'traininglabels.csv'"
   ]
  },
  {
   "cell_type": "code",
   "execution_count": 4,
   "metadata": {
    "_uuid": "280397a062decb7b3bfd9e704942eec760a146b2"
   },
   "outputs": [],
   "source": [
    "test_names = [f for f in test.iterdir()]\n",
    "holdout_names = [f for f in holdout.iterdir()]"
   ]
  },
  {
   "cell_type": "code",
   "execution_count": 5,
   "metadata": {
    "_uuid": "894eaccf852e7d0e0c71f1e91239000ff7e555eb"
   },
   "outputs": [],
   "source": [
    "df = pd.read_csv(labels)\n",
    "df_sample = pd.read_csv(sample_sub)"
   ]
  },
  {
   "cell_type": "code",
   "execution_count": 6,
   "metadata": {
    "_uuid": "942b3f688ebff86f2bf23fb31045aa93a080d5b1"
   },
   "outputs": [
    {
     "data": {
      "text/html": [
       "<div>\n",
       "<style scoped>\n",
       "    .dataframe tbody tr th:only-of-type {\n",
       "        vertical-align: middle;\n",
       "    }\n",
       "\n",
       "    .dataframe tbody tr th {\n",
       "        vertical-align: top;\n",
       "    }\n",
       "\n",
       "    .dataframe thead th {\n",
       "        text-align: right;\n",
       "    }\n",
       "</style>\n",
       "<table border=\"1\" class=\"dataframe\">\n",
       "  <thead>\n",
       "    <tr style=\"text-align: right;\">\n",
       "      <th></th>\n",
       "      <th>image_id</th>\n",
       "      <th>has_oilpalm</th>\n",
       "      <th>score</th>\n",
       "    </tr>\n",
       "  </thead>\n",
       "  <tbody>\n",
       "    <tr>\n",
       "      <th>0</th>\n",
       "      <td>img_000002017.jpg</td>\n",
       "      <td>0</td>\n",
       "      <td>0.7895</td>\n",
       "    </tr>\n",
       "    <tr>\n",
       "      <th>1</th>\n",
       "      <td>img_000012017.jpg</td>\n",
       "      <td>0</td>\n",
       "      <td>1.0000</td>\n",
       "    </tr>\n",
       "    <tr>\n",
       "      <th>2</th>\n",
       "      <td>img_000022017.jpg</td>\n",
       "      <td>0</td>\n",
       "      <td>1.0000</td>\n",
       "    </tr>\n",
       "    <tr>\n",
       "      <th>3</th>\n",
       "      <td>img_000072017.jpg</td>\n",
       "      <td>0</td>\n",
       "      <td>1.0000</td>\n",
       "    </tr>\n",
       "    <tr>\n",
       "      <th>4</th>\n",
       "      <td>img_000082017.jpg</td>\n",
       "      <td>0</td>\n",
       "      <td>1.0000</td>\n",
       "    </tr>\n",
       "  </tbody>\n",
       "</table>\n",
       "</div>"
      ],
      "text/plain": [
       "            image_id  has_oilpalm   score\n",
       "0  img_000002017.jpg            0  0.7895\n",
       "1  img_000012017.jpg            0  1.0000\n",
       "2  img_000022017.jpg            0  1.0000\n",
       "3  img_000072017.jpg            0  1.0000\n",
       "4  img_000082017.jpg            0  1.0000"
      ]
     },
     "execution_count": 6,
     "metadata": {},
     "output_type": "execute_result"
    }
   ],
   "source": [
    "df.head()"
   ]
  },
  {
   "cell_type": "code",
   "execution_count": 7,
   "metadata": {
    "_uuid": "930b4be5a1941dc2ac10f8ee543d966950906bd8"
   },
   "outputs": [],
   "source": [
    "# df = df[df.score>0.85]"
   ]
  },
  {
   "cell_type": "code",
   "execution_count": 8,
   "metadata": {
    "_uuid": "8b9fa04178f54687fbcc12ba782c7de9640369f3"
   },
   "outputs": [
    {
     "data": {
      "text/plain": [
       "15244"
      ]
     },
     "execution_count": 8,
     "metadata": {},
     "output_type": "execute_result"
    }
   ],
   "source": [
    "N = len(df); N"
   ]
  },
  {
   "cell_type": "code",
   "execution_count": 9,
   "metadata": {
    "_uuid": "78fd6b7420c9b0dbe9d59b03f687b70b75c9d4ce"
   },
   "outputs": [],
   "source": [
    "def get_data(size=128, bs=64, pct=0.2, seed=2019, n_sample=len(df)):\n",
    "    src = (ImageItemList.from_df(df.sample(n_sample), path, folder=train)\n",
    "           .random_split_by_pct(pct, seed=seed)\n",
    "           .label_from_df('has_oilpalm')\n",
    "           .add_test(test_names+holdout_names))\n",
    "    return (src.transform(get_transforms(flip_vert=True, max_lighting=0.1, max_zoom=1.05, max_warp=0.), size=size)\n",
    "            .databunch(bs=bs)\n",
    "            .normalize(imagenet_stats))"
   ]
  },
  {
   "cell_type": "code",
   "execution_count": 10,
   "metadata": {
    "_uuid": "ca5040d788a87ad00fe3d347c41b49c008a0a099"
   },
   "outputs": [],
   "source": [
    "#This was working perfectly some minutes ago!\n",
    "from sklearn.metrics import roc_auc_score\n",
    "def auc_score(y_score,y_true):\n",
    "    return torch.tensor(roc_auc_score(y_true,y_score[:,1])) # use as metric\n",
    "\n",
    "def get_learner(data, arch=models.resnet50, mixup=True):\n",
    "    learn = create_cnn(data, \n",
    "                       arch, \n",
    "                       metrics=[accuracy])\n",
    "    if mixup: learn.mixup()\n",
    "    return learn.to_fp16()"
   ]
  },
  {
   "cell_type": "code",
   "execution_count": 12,
   "metadata": {},
   "outputs": [],
   "source": [
    "data = get_data(256, 64)"
   ]
  },
  {
   "cell_type": "code",
   "execution_count": 13,
   "metadata": {},
   "outputs": [],
   "source": [
    "learn = get_learner(data)"
   ]
  },
  {
   "cell_type": "code",
   "execution_count": 13,
   "metadata": {},
   "outputs": [
    {
     "data": {
      "text/html": [],
      "text/plain": [
       "<IPython.core.display.HTML object>"
      ]
     },
     "metadata": {},
     "output_type": "display_data"
    },
    {
     "name": "stdout",
     "output_type": "stream",
     "text": [
      "LR Finder is complete, type {learner_name}.recorder.plot() to see the graph.\n",
      "Min numerical gradient: 2.75E-02\n"
     ]
    },
    {
     "data": {
      "image/png": "[encoded data removed]",
      "text/plain": [
       "<Figure size 432x288 with 1 Axes>"
      ]
     },
     "metadata": {
      "needs_background": "light"
     },
     "output_type": "display_data"
    }
   ],
   "source": [
    "learn.lr_find(); learn.recorder.plot()"
   ]
  },
  {
   "cell_type": "code",
   "execution_count": 14,
   "metadata": {},
   "outputs": [],
   "source": [
    "lr = 2e-2"
   ]
  },
  {
   "cell_type": "markdown",
   "metadata": {},
   "source": [
    "256"
   ]
  },
  {
   "cell_type": "code",
   "execution_count": 15,
   "metadata": {},
   "outputs": [
    {
     "data": {
      "text/html": [
       "Total time: 09:00 <p><table style='width:300px; margin-bottom:10px'>\n",
       "  <tr>\n",
       "    <th>epoch</th>\n",
       "    <th>train_loss</th>\n",
       "    <th>valid_loss</th>\n",
       "    <th>accuracy</th>\n",
       "  </tr>\n",
       "  <tr>\n",
       "    <th>1</th>\n",
       "    <th>0.067727</th>\n",
       "    <th>0.036171</th>\n",
       "    <th>0.988845</th>\n",
       "  </tr>\n",
       "  <tr>\n",
       "    <th>2</th>\n",
       "    <th>0.067438</th>\n",
       "    <th>0.091669</th>\n",
       "    <th>0.976378</th>\n",
       "  </tr>\n",
       "  <tr>\n",
       "    <th>3</th>\n",
       "    <th>0.086505</th>\n",
       "    <th>0.041544</th>\n",
       "    <th>0.986877</th>\n",
       "  </tr>\n",
       "  <tr>\n",
       "    <th>4</th>\n",
       "    <th>0.084729</th>\n",
       "    <th>0.041613</th>\n",
       "    <th>0.989173</th>\n",
       "  </tr>\n",
       "  <tr>\n",
       "    <th>5</th>\n",
       "    <th>0.063256</th>\n",
       "    <th>0.042189</th>\n",
       "    <th>0.989501</th>\n",
       "  </tr>\n",
       "  <tr>\n",
       "    <th>6</th>\n",
       "    <th>0.057366</th>\n",
       "    <th>0.046549</th>\n",
       "    <th>0.983596</th>\n",
       "  </tr>\n",
       "  <tr>\n",
       "    <th>7</th>\n",
       "    <th>0.051379</th>\n",
       "    <th>0.055330</th>\n",
       "    <th>0.982940</th>\n",
       "  </tr>\n",
       "  <tr>\n",
       "    <th>8</th>\n",
       "    <th>0.042854</th>\n",
       "    <th>0.037906</th>\n",
       "    <th>0.988189</th>\n",
       "  </tr>\n",
       "  <tr>\n",
       "    <th>9</th>\n",
       "    <th>0.037200</th>\n",
       "    <th>0.025700</th>\n",
       "    <th>0.989173</th>\n",
       "  </tr>\n",
       "  <tr>\n",
       "    <th>10</th>\n",
       "    <th>0.029459</th>\n",
       "    <th>0.024444</th>\n",
       "    <th>0.990486</th>\n",
       "  </tr>\n",
       "  <tr>\n",
       "    <th>11</th>\n",
       "    <th>0.023017</th>\n",
       "    <th>0.024803</th>\n",
       "    <th>0.990814</th>\n",
       "  </tr>\n",
       "  <tr>\n",
       "    <th>12</th>\n",
       "    <th>0.023408</th>\n",
       "    <th>0.025446</th>\n",
       "    <th>0.990157</th>\n",
       "  </tr>\n",
       "</table>\n"
      ],
      "text/plain": [
       "<IPython.core.display.HTML object>"
      ]
     },
     "metadata": {},
     "output_type": "display_data"
    }
   ],
   "source": [
    "learn.fit_one_cycle(12, lr)\n",
    "learn.save('256')"
   ]
  },
  {
   "cell_type": "code",
   "execution_count": 17,
   "metadata": {},
   "outputs": [
    {
     "data": {
      "text/html": [],
      "text/plain": [
       "<IPython.core.display.HTML object>"
      ]
     },
     "metadata": {},
     "output_type": "display_data"
    },
    {
     "name": "stdout",
     "output_type": "stream",
     "text": [
      "LR Finder is complete, type {learner_name}.recorder.plot() to see the graph.\n",
      "Min numerical gradient: 1.32E-06\n"
     ]
    },
    {
     "data": {
      "image/png": "[encoded data removed]",
      "text/plain": [
       "<Figure size 432x288 with 1 Axes>"
      ]
     },
     "metadata": {
      "needs_background": "light"
     },
     "output_type": "display_data"
    }
   ],
   "source": [
    "learn.unfreeze()\n",
    "learn.lr_find(); learn.recorder.plot()"
   ]
  },
  {
   "cell_type": "code",
   "execution_count": 18,
   "metadata": {},
   "outputs": [
    {
     "data": {
      "text/html": [
       "Total time: 05:39 <p><table style='width:300px; margin-bottom:10px'>\n",
       "  <tr>\n",
       "    <th>epoch</th>\n",
       "    <th>train_loss</th>\n",
       "    <th>valid_loss</th>\n",
       "    <th>accuracy</th>\n",
       "  </tr>\n",
       "  <tr>\n",
       "    <th>1</th>\n",
       "    <th>0.097671</th>\n",
       "    <th>0.034911</th>\n",
       "    <th>0.991470</th>\n",
       "  </tr>\n",
       "  <tr>\n",
       "    <th>2</th>\n",
       "    <th>0.095352</th>\n",
       "    <th>0.034597</th>\n",
       "    <th>0.992126</th>\n",
       "  </tr>\n",
       "  <tr>\n",
       "    <th>3</th>\n",
       "    <th>0.099524</th>\n",
       "    <th>0.034091</th>\n",
       "    <th>0.991798</th>\n",
       "  </tr>\n",
       "  <tr>\n",
       "    <th>4</th>\n",
       "    <th>0.095822</th>\n",
       "    <th>0.032261</th>\n",
       "    <th>0.991470</th>\n",
       "  </tr>\n",
       "  <tr>\n",
       "    <th>5</th>\n",
       "    <th>0.098263</th>\n",
       "    <th>0.032854</th>\n",
       "    <th>0.991798</th>\n",
       "  </tr>\n",
       "  <tr>\n",
       "    <th>6</th>\n",
       "    <th>0.093986</th>\n",
       "    <th>0.032164</th>\n",
       "    <th>0.991798</th>\n",
       "  </tr>\n",
       "</table>\n"
      ],
      "text/plain": [
       "<IPython.core.display.HTML object>"
      ]
     },
     "metadata": {},
     "output_type": "display_data"
    }
   ],
   "source": [
    "learn.fit_one_cycle(6, slice(1e-6,1e-4))\n",
    "learn.save('256u')"
   ]
  },
  {
   "cell_type": "code",
   "execution_count": 31,
   "metadata": {},
   "outputs": [],
   "source": [
    "learn.to_fp16()\n",
    "learn.data.test_dl.add_tfm(to_half)\n",
    "p,t = learn.get_preds(ds_type=DatasetType.Test)"
   ]
  },
  {
   "cell_type": "code",
   "execution_count": 48,
   "metadata": {},
   "outputs": [
    {
     "data": {
      "text/html": [
       "Total time: 02:03 <p>"
      ],
      "text/plain": [
       "<IPython.core.display.HTML object>"
      ]
     },
     "metadata": {},
     "output_type": "display_data"
    }
   ],
   "source": [
    "learn = get_learner(get_data(256, 64, 0.01))\n",
    "learn.load('256u')\n",
    "learn.model.float()\n",
    "p,t = learn.TTA(ds_type=DatasetType.Test)"
   ]
  },
  {
   "cell_type": "code",
   "execution_count": 49,
   "metadata": {},
   "outputs": [
    {
     "data": {
      "text/plain": [
       "(6534, 2)"
      ]
     },
     "execution_count": 49,
     "metadata": {},
     "output_type": "execute_result"
    }
   ],
   "source": [
    "p = to_np(p); p.shape"
   ]
  },
  {
   "cell_type": "code",
   "execution_count": 50,
   "metadata": {},
   "outputs": [],
   "source": [
    "preds = p[:,1]"
   ]
  },
  {
   "cell_type": "markdown",
   "metadata": {
    "_uuid": "0c8049add5c541c31996a99788ee94afff5f8855"
   },
   "source": [
    "# X-validation"
   ]
  },
  {
   "cell_type": "code",
   "execution_count": 11,
   "metadata": {
    "_uuid": "f8e30188f9687fcb37c4708b35e97b7553d0db53"
   },
   "outputs": [
    {
     "data": {
      "text/html": [
       "Total time: 02:03 <p>"
      ],
      "text/plain": [
       "<IPython.core.display.HTML object>"
      ]
     },
     "metadata": {},
     "output_type": "display_data"
    }
   ],
   "source": [
    "# sample = 500\n",
    "%time\n",
    "f = open(\"log.txt\",\"w+\")\n",
    "folds = 5\n",
    "preds = 0\n",
    "for i in range(folds):\n",
    "    f.write(f'---Fold {i}---\\n')\n",
    "    data = get_data(256, 64, seed=i)\n",
    "    learn = get_learner(data)\n",
    "    learn.freeze()\n",
    "    learn.fit_one_cycle(12, slice(2e-2))\n",
    "    learn.save(f'256-{i}')\n",
    "    learn.unfreeze()\n",
    "    learn.fit_one_cycle(20, slice(1e-6,1e-4))\n",
    "    learn.save(f'256u-{i}')\n",
    "    p,t = learn.get_preds()\n",
    "    f.write(f'  AUC score after fold {i} :{auc_score(p,t)}\\n')\n",
    "    \n",
    "    #TTA shit\n",
    "    learn = get_learner(get_data(256, 48))\n",
    "    learn.load(f'256u-{i}')\n",
    "    learn.model.float()\n",
    "    p,t = learn.TTA(ds_type=DatasetType.Test)\n",
    "    \n",
    "    preds += to_np(p[:,1])/folds\n",
    "   \n",
    "f.close()"
   ]
  },
  {
   "cell_type": "code",
   "execution_count": 12,
   "metadata": {
    "_uuid": "ba97f37055d5a4c4b2e7bc4256e5a272a27eb160"
   },
   "outputs": [],
   "source": [
    "np.save('preds_5fold_R50',preds)"
   ]
  },
  {
   "cell_type": "markdown",
   "metadata": {
    "_uuid": "c6508773ab6eab1b8bd4ff04308fefa04719b1cd"
   },
   "source": [
    "## Sub file"
   ]
  },
  {
   "cell_type": "code",
   "execution_count": 13,
   "metadata": {
    "_uuid": "92a06ece33cd4cab4f227b10611aed88cab5f517"
   },
   "outputs": [],
   "source": [
    "ids = np.array([f.name for f in test_names]+[f.name for f in holdout_names])"
   ]
  },
  {
   "cell_type": "code",
   "execution_count": 14,
   "metadata": {
    "_uuid": "aefcf10e1918a8bfbf4b6787086c3a0a7fe82aba"
   },
   "outputs": [
    {
     "data": {
      "text/plain": [
       "(6534,)"
      ]
     },
     "execution_count": 14,
     "metadata": {},
     "output_type": "execute_result"
    }
   ],
   "source": [
    "ids.shape"
   ]
  },
  {
   "cell_type": "code",
   "execution_count": 15,
   "metadata": {
    "_uuid": "f48a774a9311109f87dfd96adad723b25092a1f0"
   },
   "outputs": [],
   "source": [
    "sub = pd.DataFrame(np.stack([ids, preds], axis=1), columns=df_sample.columns)"
   ]
  },
  {
   "cell_type": "code",
   "execution_count": 16,
   "metadata": {
    "_uuid": "67ad14edac9bfc39c3bf9b27e24aaf94bbfdf48b"
   },
   "outputs": [],
   "source": [
    "sub.to_csv('sub_resnet50x5_haze_TTA.csv', index=False)"
   ]
  },
  {
   "cell_type": "code",
   "execution_count": 17,
   "metadata": {
    "_uuid": "ee624be0137bb57cd461ba3d1861d2cc1e816ad8"
   },
   "outputs": [],
   "source": []
  }
 ],
 "metadata": {
  "kernelspec": {
   "display_name": "Python 3",
   "language": "python",
   "name": "python3"
  },
  "language_info": {
   "codemirror_mode": {
    "name": "ipython",
    "version": 3
   },
   "file_extension": ".py",
   "mimetype": "text/x-python",
   "name": "python",
   "nbconvert_exporter": "python",
   "pygments_lexer": "ipython3",
   "version": "3.7.1"
  }
 },
 "nbformat": 4,
 "nbformat_minor": 2
}
