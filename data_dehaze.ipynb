{
 "cells": [
  {
   "cell_type": "code",
   "execution_count": 2,
   "metadata": {},
   "outputs": [],
   "source": [
    "from dehaze import *\n",
    "from pathlib import Path"
   ]
  },
  {
   "cell_type": "code",
   "execution_count": 20,
   "metadata": {},
   "outputs": [],
   "source": [
    "train = Path('train_images')\n",
    "train_dehaze = Path('train_dehaze/')\n",
    "\n",
    "test = Path('leaderboard_test_data/')\n",
    "test_dehaze = Path('leaderboard_test_data_dehaze/')\n",
    "\n",
    "holdout = Path('leaderboard_holdout_data/')\n",
    "holdout_dehaze = Path('leaderboard_holdout_data_dehaze/')"
   ]
  },
  {
   "cell_type": "code",
   "execution_count": 5,
   "metadata": {},
   "outputs": [],
   "source": [
    "def dehaze_train(fname):\n",
    "    d_image = dehaze(fname)\n",
    "    out_name = str(train_dehaze/fname.name)\n",
    "    cv2.imwrite(out_name, d_image*255)"
   ]
  },
  {
   "cell_type": "code",
   "execution_count": 9,
   "metadata": {},
   "outputs": [],
   "source": [
    "train_names = [f for f in train.iterdir()]\n",
    "test_names = [f for f in test.iterdir()]\n",
    "holdout_names = [f for f in holdout.iterdir()]"
   ]
  },
  {
   "cell_type": "code",
   "execution_count": 12,
   "metadata": {},
   "outputs": [
    {
     "data": {
      "text/plain": [
       "PosixPath('train_images/img_000002017.jpg')"
      ]
     },
     "execution_count": 12,
     "metadata": {},
     "output_type": "execute_result"
    }
   ],
   "source": [
    "fname = train_names[0]; fname"
   ]
  },
  {
   "cell_type": "code",
   "execution_count": 13,
   "metadata": {},
   "outputs": [],
   "source": [
    "dehaze_train(fname)"
   ]
  },
  {
   "cell_type": "code",
   "execution_count": 14,
   "metadata": {},
   "outputs": [],
   "source": [
    "from  concurrent.futures import ProcessPoolExecutor"
   ]
  },
  {
   "cell_type": "code",
   "execution_count": 19,
   "metadata": {},
   "outputs": [
    {
     "name": "stdout",
     "output_type": "stream",
     "text": [
      "CPU times: user 14.1 s, sys: 2.78 s, total: 16.8 s\n",
      "Wall time: 4h 32min 10s\n"
     ]
    }
   ],
   "source": [
    "%time with ProcessPoolExecutor(4) as e: e.map(dehaze_train, train_names)"
   ]
  },
  {
   "cell_type": "code",
   "execution_count": 21,
   "metadata": {},
   "outputs": [],
   "source": [
    "def dehaze_test(fname):\n",
    "    d_image = dehaze(fname)\n",
    "    out_name = str(test_dehaze/fname.name)\n",
    "    cv2.imwrite(out_name, d_image*255)"
   ]
  },
  {
   "cell_type": "code",
   "execution_count": 22,
   "metadata": {},
   "outputs": [
    {
     "name": "stdout",
     "output_type": "stream",
     "text": [
      "CPU times: user 3.27 s, sys: 691 ms, total: 3.96 s\n",
      "Wall time: 59min 40s\n"
     ]
    }
   ],
   "source": [
    "%time with ProcessPoolExecutor(4) as e: e.map(dehaze_test, test_names)"
   ]
  },
  {
   "cell_type": "code",
   "execution_count": 23,
   "metadata": {},
   "outputs": [],
   "source": [
    "def dehaze_holdout(fname):\n",
    "    d_image = dehaze(fname)\n",
    "    out_name = str(holdout_dehaze/fname.name)\n",
    "    cv2.imwrite(out_name, d_image*255)"
   ]
  },
  {
   "cell_type": "code",
   "execution_count": 25,
   "metadata": {},
   "outputs": [
    {
     "name": "stdout",
     "output_type": "stream",
     "text": [
      "CPU times: user 2.9 s, sys: 496 ms, total: 3.4 s\n",
      "Wall time: 39min 12s\n"
     ]
    }
   ],
   "source": [
    "%time with ProcessPoolExecutor(6) as e: e.map(dehaze_holdout, holdout_names)"
   ]
  },
  {
   "cell_type": "code",
   "execution_count": null,
   "metadata": {},
   "outputs": [],
   "source": []
  }
 ],
 "metadata": {
  "kernelspec": {
   "display_name": "Python 3",
   "language": "python",
   "name": "python3"
  },
  "language_info": {
   "codemirror_mode": {
    "name": "ipython",
    "version": 3
   },
   "file_extension": ".py",
   "mimetype": "text/x-python",
   "name": "python",
   "nbconvert_exporter": "python",
   "pygments_lexer": "ipython3",
   "version": "3.5.6"
  }
 },
 "nbformat": 4,
 "nbformat_minor": 2
}
